{
  "nbformat": 4,
  "nbformat_minor": 0,
  "metadata": {
    "kernelspec": {
      "display_name": "Python 3",
      "language": "python",
      "name": "python3"
    },
    "language_info": {
      "codemirror_mode": {
        "name": "ipython",
        "version": 3
      },
      "file_extension": ".py",
      "mimetype": "text/x-python",
      "name": "python",
      "nbconvert_exporter": "python",
      "pygments_lexer": "ipython3",
      "version": "3.7.6-final"
    },
    "colab": {
      "name": "01_prise_en_main.ipynb",
      "provenance": []
    }
  },
  "cells": [
    {
      "cell_type": "markdown",
      "metadata": {
        "id": "7ceUTCgl5Ys0",
        "colab_type": "text"
      },
      "source": [
        "# TD 1: Environnement de programmation et premiers pas avec Python"
      ]
    },
    {
      "cell_type": "markdown",
      "metadata": {
        "id": "Yt6lm79x5Ys2",
        "colab_type": "text"
      },
      "source": [
        "---\n",
        "\n",
        "## 1.Vérification de l'installation de l'environnement de programmation\n",
        "\n",
        "Avant de débuter ce td, vous devez avoir suivi la procédure d'installation [INSTALL.md](https://github.com/uvsq-info/l1-python/blob/master/INSTALL.md) si vous utilisez votre ordinateur personnel. Et, que vous utilisiez votre ordinateur personnel ou bien un ordinateur du cartable numérique, vous avez testé toutes les étapes du [tutoriel de prise en main de l'environnement de programmation](https://github.com/uvsq-info/l1-python/blob/master/README.md) jusqu'à la partie **utilisation du projet dans un terminal**. Si un des tests ne marche pas, appelez un enseignant. Si vous ne réusissez pas à exécuter le code du notebook, et en attendant que l'on vienne vous aider, vous pouvez travailler en utilisant un [notebook en ligne](https://colab.research.google.com/notebooks/intro.ipynb). Le notebook en ligne est aussi une solution pour programmer depuis chez vous si vous n'avez pas installé l'environnement correctement. Mais la solution privilégiée reste d'installer l'environnement.\n",
        "\n",
        "Tout au long du travail que vous ferez sur le notebook, pensez à le sauvegarder en cliquant sur l'icône en haut à gauche du notebook. A la fin du td, mais également à la fin de chaque section du notebook, pensez à sauvegardez votre travail sur votre compte github. \n",
        "\n",
        "Ce td commence en présentiel, et la fin sera traitée dans le td à distance de la semaine prochaine.\n",
        "\n"
      ]
    },
    {
      "cell_type": "markdown",
      "metadata": {
        "id": "vBRRKzSv5Ys4",
        "colab_type": "text"
      },
      "source": [
        "---\n",
        "## 2.Utilisation du notebook Python\n",
        "\n",
        "Dans un premier temps, nous allons voir comment utiliser le notebook. Le notebook permet d'écrire du code que l'on peut évaluer au fur et à mesure. Plus tard, nous programmerons dans un fichier texte, en utilisant l'éditeur VisualStudioCode (VSCode dans la suite) et l'environnement qu'il fournit pour écrire des programmes en Python. \n",
        "\n",
        "Un notebook contient des *cellules* qui sont de deux sortes: il y a des cellules de texte écrites dans un langage de mise en forme de texte appelé *Markdown*, et les cellules de code que vous allez remplir. Les cellules de code sont précédées de crochets `[-]` avec un tiret ou un numéro dedans (notez que la présentation peut être différente avec un autre éditeur de notebook).\n",
        "\n",
        "1. Dans la cellule de code suivante, tapez `1 + 1` puis évaluez la cellule en cliquant sur la flèche verte en haut à gauche de la cellule.\n",
        "\n",
        "\n"
      ]
    },
    {
      "cell_type": "code",
      "metadata": {
        "id": "9pgx5SNh5Ys5",
        "colab_type": "code",
        "colab": {
          "base_uri": "https://localhost:8080/",
          "height": 34
        },
        "outputId": "58cd7ab7-5684-406b-ec74-9be269c7e58b"
      },
      "source": [
        "1+1\n"
      ],
      "execution_count": 2,
      "outputs": [
        {
          "output_type": "execute_result",
          "data": {
            "text/plain": [
              "2"
            ]
          },
          "metadata": {
            "tags": []
          },
          "execution_count": 2
        }
      ]
    },
    {
      "cell_type": "markdown",
      "metadata": {
        "id": "EH27a5BC5YtB",
        "colab_type": "text"
      },
      "source": [
        "2. Cliquez de nouveau sur cette cellule et appuyez sur les touches `SHIFT + ENTREE` du clavier.\n",
        "\n",
        "**Note**: Cela évalue également la cellule de code. Remarquez le numéro qui s'affiche dans les crochets: c'est *l'ordre d'évaluation* de la cellule. \n",
        "\n",
        "3. Dans la cellule suivante, affectez le résultat de l'expression `1 + 1` à une variable notée `a`. Bien entendu, évaluez la cellule (on ne le rappellera pas systématiquement)."
      ]
    },
    {
      "cell_type": "code",
      "metadata": {
        "id": "f7TsCTUo5YtC",
        "colab_type": "code",
        "colab": {}
      },
      "source": [
        "a=1+1\n"
      ],
      "execution_count": 3,
      "outputs": []
    },
    {
      "cell_type": "markdown",
      "metadata": {
        "id": "uL14yxM05YtJ",
        "colab_type": "text"
      },
      "source": [
        "4. Remarquez que l'évaluation de cette cellule ne génère aucun *texte  en sortie*. Pour connaître la valeur de la variable `a`, tapez le nom de la variable dans la cellule suivante."
      ]
    },
    {
      "cell_type": "code",
      "metadata": {
        "id": "dyQX-Agk5YtY",
        "colab_type": "code",
        "colab": {
          "base_uri": "https://localhost:8080/",
          "height": 34
        },
        "outputId": "89ee7615-2f93-49cb-f91b-81c399fc0812"
      },
      "source": [
        "a"
      ],
      "execution_count": 9,
      "outputs": [
        {
          "output_type": "execute_result",
          "data": {
            "text/plain": [
              "3"
            ]
          },
          "metadata": {
            "tags": []
          },
          "execution_count": 9
        }
      ]
    },
    {
      "cell_type": "markdown",
      "metadata": {
        "id": "Z-WRLZ2i5Ytf",
        "colab_type": "text"
      },
      "source": [
        "5. Testez maintenant l'expression `print(a)`."
      ]
    },
    {
      "cell_type": "code",
      "metadata": {
        "tags": [],
        "id": "JZ9kuoDo5Ytg",
        "colab_type": "code",
        "colab": {
          "base_uri": "https://localhost:8080/",
          "height": 34
        },
        "outputId": "0fca6b31-f5cc-4dd1-f3cf-8ebbb2d7c7b6"
      },
      "source": [
        "print(a)"
      ],
      "execution_count": 6,
      "outputs": [
        {
          "output_type": "stream",
          "text": [
            "2\n"
          ],
          "name": "stdout"
        }
      ]
    },
    {
      "cell_type": "markdown",
      "metadata": {
        "id": "Jr9Nl_9x5Ytm",
        "colab_type": "text"
      },
      "source": [
        "Le résultat est identique. La première méthode fonctionne dans le notebook, mais pas dans un programme Python. C'est pourquoi il vaut mieux utiliser la deuxième méthode qui repose sur l'utilisation de la *fonction native* `print()`. L'ensemble de ces fonctions est [disponible ici](https://docs.python.org/fr/3.5/library/functions.html).\n",
        "\n",
        "6. Augmentez de 1 la valeur de `a`. L'expression doit donner le bon résultat quelle que soit la valeur de la variable."
      ]
    },
    {
      "cell_type": "code",
      "metadata": {
        "id": "nAWV1eD45Ytn",
        "colab_type": "code",
        "colab": {}
      },
      "source": [
        "a+=1"
      ],
      "execution_count": 7,
      "outputs": []
    },
    {
      "cell_type": "markdown",
      "metadata": {
        "id": "rpLxpyw15Yts",
        "colab_type": "text"
      },
      "source": [
        "Et vérifiez en affichant la valeur de `a`."
      ]
    },
    {
      "cell_type": "code",
      "metadata": {
        "tags": [],
        "id": "1bfvNkXu5Ytu",
        "colab_type": "code",
        "colab": {
          "base_uri": "https://localhost:8080/",
          "height": 34
        },
        "outputId": "951ca509-2c5e-4b7b-9c18-960282e752da"
      },
      "source": [
        "print(a)"
      ],
      "execution_count": 10,
      "outputs": [
        {
          "output_type": "stream",
          "text": [
            "3\n"
          ],
          "name": "stdout"
        }
      ]
    },
    {
      "cell_type": "markdown",
      "metadata": {
        "id": "vQ9WT-E05Yt_",
        "colab_type": "text"
      },
      "source": [
        "7. Ré-évaluez toutes les cellules où vous avez affiché la valeur de `a`. Que remarquez-vous? On voit ici que ce qui compte dans le notebook est *l'ordre d'évaluation* et non pas *l'ordre d'apparition* des cellules. Ce comportement est source d'erreur, il faut donc bien y faire attention.\n",
        "\n",
        "8. Sans écrire de code supplémentaire, augmentez encore de 1 la valeur de `a`, et vérifiez que ça a bien fonctionné.\n",
        "\n",
        "**Note**: les 5 questions suivantes sont relatives à l'usage du notebook dans VSCode. Si vous travaillez avec un autre type de notebook, il est possible que vous n'ayez pas accès à toutes ces fonctionnalités.\n",
        "\n",
        "9. Parmi les icônes qui apparaissent en haut du notebook, trouvez celui qui affiche `clear all output`. Cliquez dessus, puis ré-évaluez la variable `a`.\n",
        "\n",
        "10. Parmi les icônes qui apparaissent en haut du notebook, trouvez celui qui affiche `show variables active in jupyter kernel`. Cliquez dessus et regardez le résultat. Cet outil est très utile pour comprendre les erreurs liées à l'ordre d'évaluation des cellules.\n",
        "\n",
        "11. Parmi les icônes qui apparaissent en haut du notebook, trouvez celui qui affiche `restart IPython kernel`. Cliquez dessus et regardez le résultat dans l'affichage des variables. Ré-évaluez la variable `a`. Que se passe-t'il?\n",
        "\n",
        "12. Dans cette même barre, trouvez l'icône qui permet d'évaluer toutes les cellules se trouvant au-dessus de ce bloc de texte.\n",
        "\n",
        "13. Enfin, sauvegardez votre travail.\n",
        "\n",
        "14. Dans la cellule suivante, affectez la valeur 5 à la variable `a` et la valeur 2 à la variable `b`, puis afficher les 2 valeurs avec l'expression `print(a, b)`.\n"
      ]
    },
    {
      "cell_type": "code",
      "metadata": {
        "tags": [],
        "id": "EiUPNKZf5Yt_",
        "colab_type": "code",
        "colab": {}
      },
      "source": [
        "a=5\n",
        "b=2"
      ],
      "execution_count": 30,
      "outputs": []
    },
    {
      "cell_type": "markdown",
      "metadata": {
        "id": "g2i0_AU15YuF",
        "colab_type": "text"
      },
      "source": [
        "15. Ecrivez le code qui permet d'échanger la valeur des variables `a` et `b`. Puis affichez leurs valeurs."
      ]
    },
    {
      "cell_type": "code",
      "metadata": {
        "tags": [],
        "id": "90tzjsGL5YuG",
        "colab_type": "code",
        "colab": {
          "base_uri": "https://localhost:8080/",
          "height": 34
        },
        "outputId": "5a386d2d-b3f1-453d-928a-5a7ab84b8566"
      },
      "source": [
        "c=2\n",
        "b=a\n",
        "a=c \n",
        "print(a,b)"
      ],
      "execution_count": 31,
      "outputs": [
        {
          "output_type": "stream",
          "text": [
            "2 5\n"
          ],
          "name": "stdout"
        }
      ]
    },
    {
      "cell_type": "markdown",
      "metadata": {
        "id": "kDIiX2TK5YuL",
        "colab_type": "text"
      },
      "source": [
        "16. Pour enrichir l'affichage, recopiez l'expression `print(\"a vaut\", a, \"et b vaut\", b)`."
      ]
    },
    {
      "cell_type": "code",
      "metadata": {
        "tags": [],
        "id": "sOZE5N5M5YuL",
        "colab_type": "code",
        "colab": {
          "base_uri": "https://localhost:8080/",
          "height": 34
        },
        "outputId": "475b4743-b450-4784-dc99-6c56af016125"
      },
      "source": [
        "print(\"a vaut\", a, \"et b vaut\", b )"
      ],
      "execution_count": 33,
      "outputs": [
        {
          "output_type": "stream",
          "text": [
            "a vaut 2 et b vaut 5\n"
          ],
          "name": "stdout"
        }
      ]
    },
    {
      "cell_type": "markdown",
      "metadata": {
        "id": "H7FmEELv5Yum",
        "colab_type": "text"
      },
      "source": [
        "17.  Recopiez l'affectation suivante `a = \"hello world\"`, puis affichez la valeur de `a`."
      ]
    },
    {
      "cell_type": "code",
      "metadata": {
        "tags": [],
        "id": "ISCzi8bU5Yun",
        "colab_type": "code",
        "colab": {
          "base_uri": "https://localhost:8080/",
          "height": 35
        },
        "outputId": "b9558282-f195-4ba7-d306-3dafe566e5e6"
      },
      "source": [
        "a=\"hello world\"\n",
        "a"
      ],
      "execution_count": 17,
      "outputs": [
        {
          "output_type": "execute_result",
          "data": {
            "application/vnd.google.colaboratory.intrinsic+json": {
              "type": "string"
            },
            "text/plain": [
              "'hello world'"
            ]
          },
          "metadata": {
            "tags": []
          },
          "execution_count": 17
        }
      ]
    },
    {
      "cell_type": "markdown",
      "metadata": {
        "id": "y3dCKHCX5Yus",
        "colab_type": "text"
      },
      "source": [
        "**Note**: la variable `a` contenait un entier, et maintenant une chaîne de caractères. En Python les variables ont un *type dynamique* contrairement au type statique où le type des variables est défini une fois pour toutes. De plus ce typage est *implicite*, c'est-à-dire qu'il est déterminé par les objets auxquels les variables font référence sans avoir besoin de l'écrire explicitement.\n",
        "\n",
        "18. Afficher de nouveau la valeur de `a` sans utiliser la fonction `print`. Que constatez-vous?\n",
        "\n",
        "19. Avant de passer à la suite, sauvegardez votre notebook, et sauvegardez le sur github."
      ]
    },
    {
      "cell_type": "markdown",
      "metadata": {
        "id": "Qy6ArBqM5Yut",
        "colab_type": "text"
      },
      "source": [
        "\n",
        "-------------------\n",
        "## 3.Types de données\n",
        "En Python, toute variable ou expression possède un *type* qui définit, entre autres, les opérations que l'on peut lui  appliquer. Parmi les types natifs on peut citer les nombres entiers, les nombres flottants, les chaînes de caractères (string en anglais) et les booléens (Vrai ou Faux).\n",
        "\n",
        "\n",
        "1. Prédisez le type de chacune des expressions suivantes. Vérifiez le à l'aide de la fonction `type()`:\n",
        "\n",
        "* `5`\n",
        "* `5.0`\n",
        "* `\"5\"`\n",
        "* `-5`\n",
        "* `5 / 2`\n",
        "* `5 // 2`\n",
        "* ` 5 == 2  `\n",
        "* `5 = 2`"
      ]
    },
    {
      "cell_type": "code",
      "metadata": {
        "id": "RGMPs6pO5Yuu",
        "colab_type": "code",
        "colab": {
          "base_uri": "https://localhost:8080/",
          "height": 34
        },
        "outputId": "3a83fec0-6bd2-4c78-e7c0-d749b12621b6"
      },
      "source": [
        "type(5)\n"
      ],
      "execution_count": 23,
      "outputs": [
        {
          "output_type": "execute_result",
          "data": {
            "text/plain": [
              "int"
            ]
          },
          "metadata": {
            "tags": []
          },
          "execution_count": 23
        }
      ]
    },
    {
      "cell_type": "markdown",
      "metadata": {
        "id": "WauRkqmi5Yu2",
        "colab_type": "text"
      },
      "source": [
        "Ce sont les types de base du langage Python que nous allons étudier dans la suite. Notez que les nombres flottants s'écrivent avec un point et non avec une virgule.\n",
        "\n",
        "2. Faites la même chose avec les expressions suivantes:\n",
        "\n",
        "* `(5, 2)`\n",
        "* `[5, 2]`\n",
        "* `{5, 2}`\n"
      ]
    },
    {
      "cell_type": "code",
      "metadata": {
        "id": "w8uDY0zo5Yu3",
        "colab_type": "code",
        "colab": {
          "base_uri": "https://localhost:8080/",
          "height": 34
        },
        "outputId": "3940244f-dc78-4169-fb3d-7b93470bc63a"
      },
      "source": [
        "type({5, 2})"
      ],
      "execution_count": 26,
      "outputs": [
        {
          "output_type": "execute_result",
          "data": {
            "text/plain": [
              "set"
            ]
          },
          "metadata": {
            "tags": []
          },
          "execution_count": 26
        }
      ]
    },
    {
      "cell_type": "markdown",
      "metadata": {
        "id": "l0Vb25XC5Yu-",
        "colab_type": "text"
      },
      "source": [
        "Ce sont des types avancés, qui permettent de construire des structures de données plus complexes, que nous apprendrons à manipuler plus tard. Pouvez-vous trouver une expression ayant un autre type?  Vous pouvez consulter la [documentation Python sur les types](https://docs.python.org/fr/3/library/stdtypes.html).\n",
        "\n",
        "3. Maintenant, affectez une valeur à une variable `x`, et écrivez le code qui affiche, par exemple, `le type de x est <class 'int'>` si jamais la valeur stockée dans `x` est un entier.\n"
      ]
    },
    {
      "cell_type": "code",
      "metadata": {
        "tags": [],
        "id": "awaUXuT45YvA",
        "colab_type": "code",
        "colab": {
          "base_uri": "https://localhost:8080/",
          "height": 34
        },
        "outputId": "2ec3b557-287e-4c62-bd99-415c1e726a12"
      },
      "source": [
        "x=5\n",
        "type(x)\n"
      ],
      "execution_count": 34,
      "outputs": [
        {
          "output_type": "execute_result",
          "data": {
            "text/plain": [
              "int"
            ]
          },
          "metadata": {
            "tags": []
          },
          "execution_count": 34
        }
      ]
    },
    {
      "cell_type": "markdown",
      "metadata": {
        "id": "xP53Z1tQ5YvE",
        "colab_type": "text"
      },
      "source": [
        "\n",
        "### 3.1 Type numérique entier\n",
        "\n",
        "1. Affectez une valeur entière à une variable `v`.\n"
      ]
    },
    {
      "cell_type": "code",
      "metadata": {
        "id": "3NFZfLCV5YvF",
        "colab_type": "code",
        "colab": {}
      },
      "source": [
        "v=6"
      ],
      "execution_count": 35,
      "outputs": []
    },
    {
      "cell_type": "markdown",
      "metadata": {
        "id": "hU3BXcj55YvL",
        "colab_type": "text"
      },
      "source": [
        "2. Ecrivez le résultat de la division entière de `v` par 11. Par exemple, si `v` vaut 149, le résultat affiché doit être de la forme: \n",
        "\n",
        "`149 = 13 x 11 + 6`"
      ]
    },
    {
      "cell_type": "code",
      "metadata": {
        "tags": [],
        "id": "2N6P6PSt5YvM",
        "colab_type": "code",
        "colab": {
          "base_uri": "https://localhost:8080/",
          "height": 34
        },
        "outputId": "5efba4c7-9743-4d70-e4f0-9dcd2a4d1149"
      },
      "source": [
        "v // 11"
      ],
      "execution_count": 36,
      "outputs": [
        {
          "output_type": "execute_result",
          "data": {
            "text/plain": [
              "0"
            ]
          },
          "metadata": {
            "tags": []
          },
          "execution_count": 36
        }
      ]
    },
    {
      "cell_type": "markdown",
      "metadata": {
        "id": "Vqw2XidU5YvU",
        "colab_type": "text"
      },
      "source": [
        "3. Prédisez le résultat des expressions suivantes, puis évaluer le code:\n",
        "* `3 * (10 / 3)`\n",
        "* `3 * (10 // 3)`\n",
        "* `(3 * 10) // 3`"
      ]
    },
    {
      "cell_type": "code",
      "metadata": {
        "id": "aDRrhEXJ5YvV",
        "colab_type": "code",
        "colab": {
          "base_uri": "https://localhost:8080/",
          "height": 34
        },
        "outputId": "fd3d5e45-4460-4c97-e63d-e3bad9e47383"
      },
      "source": [
        "(3*10)//3\n"
      ],
      "execution_count": 39,
      "outputs": [
        {
          "output_type": "execute_result",
          "data": {
            "text/plain": [
              "10"
            ]
          },
          "metadata": {
            "tags": []
          },
          "execution_count": 39
        }
      ]
    },
    {
      "cell_type": "markdown",
      "metadata": {
        "id": "p8vyIbCj5Yvb",
        "colab_type": "text"
      },
      "source": [
        "5. Le résultat change-t'il si on retire les parenthèses des expressions précédentes?"
      ]
    },
    {
      "cell_type": "markdown",
      "metadata": {
        "id": "X9pmDqy85Yvb",
        "colab_type": "text"
      },
      "source": [
        "\n",
        "6. Affectez un nombre entier à une variable, puis écrivez une expression qui affiche `True` si la variable est paire et `False` sinon."
      ]
    },
    {
      "cell_type": "code",
      "metadata": {
        "tags": [],
        "id": "1hFGnh7n5Yvc",
        "colab_type": "code",
        "colab": {
          "base_uri": "https://localhost:8080/",
          "height": 34
        },
        "outputId": "a78d447b-c439-4cb5-e02e-bdf32dab3de7"
      },
      "source": [
        "def variable_paire(p):\n",
        "  if p%2==0:\n",
        "    print(\"le nombre\",p ,\"est pair\")\n",
        "  else:\n",
        "    print(\"le nombre\", p, \"est impair\")\n",
        "\n",
        "variable_paire(5)\n",
        "\n"
      ],
      "execution_count": 42,
      "outputs": [
        {
          "output_type": "stream",
          "text": [
            "le nombre 5 est impair\n"
          ],
          "name": "stdout"
        }
      ]
    },
    {
      "cell_type": "markdown",
      "metadata": {
        "id": "YZHc2tM45Yvi",
        "colab_type": "text"
      },
      "source": [
        "7. L'opérateur puissance s'écrit `**`. Par exemple, 2 à la puissance 10 s'écrit `2 ** 10`. Affichez la valeur de 2 puissance 256. Combien de chiffres a ce nombre (en évitant de compter sur l'écran)?"
      ]
    },
    {
      "cell_type": "code",
      "metadata": {
        "tags": [],
        "id": "2fwCQOG85Yvi",
        "colab_type": "code",
        "colab": {
          "base_uri": "https://localhost:8080/",
          "height": 34
        },
        "outputId": "6d907762-173c-4652-8d8a-deee13f9ed0a"
      },
      "source": [
        "2**256"
      ],
      "execution_count": 43,
      "outputs": [
        {
          "output_type": "execute_result",
          "data": {
            "text/plain": [
              "115792089237316195423570985008687907853269984665640564039457584007913129639936"
            ]
          },
          "metadata": {
            "tags": []
          },
          "execution_count": 43
        }
      ]
    },
    {
      "cell_type": "markdown",
      "metadata": {
        "id": "mJ_pkqdQ5Yvn",
        "colab_type": "text"
      },
      "source": [
        "**Note**:  les nombres entiers ont une précision arbitraire."
      ]
    },
    {
      "cell_type": "markdown",
      "metadata": {
        "id": "C-RCqOG45Yvn",
        "colab_type": "raw"
      },
      "source": [
        "Ecrire l'expression qui donne le dernier chiffre du nombre référencé par la variable `a`."
      ]
    },
    {
      "cell_type": "markdown",
      "metadata": {
        "id": "sz7zwZIe5Yvp",
        "colab_type": "raw"
      },
      "source": [
        "Ecrire l'expression qui donne l'avant-dernier chiffre du nombre référencé par la variable `a`."
      ]
    },
    {
      "cell_type": "markdown",
      "metadata": {
        "id": "LzeQV7bZ5Yvq",
        "colab_type": "text"
      },
      "source": [
        "\n",
        "### 3.2 Nombres flottants\n",
        "\n",
        "1. L'expression `0.2 + 0.4` est-elle égale, supérieure ou inférieure à `0.6`?"
      ]
    },
    {
      "cell_type": "code",
      "metadata": {
        "tags": [],
        "id": "EP6Z-n_D5Yvr",
        "colab_type": "code",
        "colab": {
          "base_uri": "https://localhost:8080/",
          "height": 34
        },
        "outputId": "de8e418c-83d3-46bb-f92e-bf57d032a2bf"
      },
      "source": [
        "0.2+0.4 > 0.6"
      ],
      "execution_count": 45,
      "outputs": [
        {
          "output_type": "execute_result",
          "data": {
            "text/plain": [
              "True"
            ]
          },
          "metadata": {
            "tags": []
          },
          "execution_count": 45
        }
      ]
    },
    {
      "cell_type": "markdown",
      "metadata": {
        "id": "rPTabN-V5Yvy",
        "colab_type": "text"
      },
      "source": [
        "2. Affectez la valeur 0.5 à une variable `x`. Multipliez `x` par $2^{30}$ puis convertissez le résultat obtenu en valeur entière (utilisez la fonction `int()`) puis divisez le résultat par $2^{30}$ (faire une division flottante)."
      ]
    },
    {
      "cell_type": "code",
      "metadata": {
        "tags": [],
        "id": "Px_Grlle5Yv0",
        "colab_type": "code",
        "colab": {
          "base_uri": "https://localhost:8080/",
          "height": 34
        },
        "outputId": "e775d327-ad40-4e2e-a888-2d31a0d0ec06"
      },
      "source": [
        "x=0.1\n",
        "int(x*2**30)/2**30\n"
      ],
      "execution_count": 53,
      "outputs": [
        {
          "output_type": "execute_result",
          "data": {
            "text/plain": [
              "0.09999999962747097"
            ]
          },
          "metadata": {
            "tags": []
          },
          "execution_count": 53
        }
      ]
    },
    {
      "cell_type": "markdown",
      "metadata": {
        "id": "dozTogpj5Yv6",
        "colab_type": "text"
      },
      "source": [
        "3. Remplacez la valeur de `x` par 0.1 et refaites le calcul."
      ]
    },
    {
      "cell_type": "markdown",
      "metadata": {
        "id": "Z6ivV5RJ5YwD",
        "colab_type": "text"
      },
      "source": [
        "4. Pouvez-vous trouver d'autres valeurs de `x` pour lesquelles l'expression calculée redonne la valeur de `x`?\n",
        "\n",
        "**Note**: les nombres flottants que l'on manipule sont en fait une approximation de ces nombres. Pour plus de détails, vous pouvez consulter [cet article](https://docs.python.org/fr/3.8/tutorial/floatingpoint.html)."
      ]
    },
    {
      "cell_type": "markdown",
      "metadata": {
        "id": "vkpzqgnf5YwD",
        "colab_type": "text"
      },
      "source": [
        "### 3.3 Chaînes de caractères"
      ]
    },
    {
      "cell_type": "markdown",
      "metadata": {
        "id": "Po5HOthc5YwD",
        "colab_type": "text"
      },
      "source": [
        "1. Dans la cellule de code suivante, affichez le résultat de l'expression `a + b`, et de `b + a`"
      ]
    },
    {
      "cell_type": "code",
      "metadata": {
        "tags": [],
        "id": "PsKrNJzo5YwE",
        "colab_type": "code",
        "colab": {}
      },
      "source": [
        "a = \"hello\"\n",
        "b = 'world'"
      ],
      "execution_count": 54,
      "outputs": []
    },
    {
      "cell_type": "markdown",
      "metadata": {
        "id": "166OMgW95YwJ",
        "colab_type": "text"
      },
      "source": [
        "**Notes**: les chaînes de caractères peuvent s'écrire avec des guillemets simples ou doubles (d'autres formes existent). L'opération d'addition de chaînes est appelée *concaténation*.\n",
        "\n",
        "2. Dans la cellule précédente, ajoutez un espace entre `hello` et `world` sans modifier les variables."
      ]
    },
    {
      "cell_type": "markdown",
      "metadata": {
        "id": "uZyAx7R85YwJ",
        "colab_type": "text"
      },
      "source": [
        "3. Avant d'afficher le résultat, prédire ce que valent `a * 3` et `(a + b) * 2`?"
      ]
    },
    {
      "cell_type": "code",
      "metadata": {
        "tags": [],
        "id": "4W71mzvb5YwK",
        "colab_type": "code",
        "colab": {}
      },
      "source": [
        ""
      ],
      "execution_count": null,
      "outputs": []
    },
    {
      "cell_type": "markdown",
      "metadata": {
        "id": "XHFcl-GE5YwR",
        "colab_type": "text"
      },
      "source": [
        "4. On peut appliquer des *méthodes* (ce sont des fonctions qui s'appliquent à un certain type d'objets) à une chaîne de caractères. Par exemple tester ce que vaut `a.upper()`."
      ]
    },
    {
      "cell_type": "code",
      "metadata": {
        "id": "slJTnuMd5YwS",
        "colab_type": "code",
        "colab": {
          "base_uri": "https://localhost:8080/",
          "height": 35
        },
        "outputId": "775fbe8a-a51a-4044-ddf7-e0d3342de8b4"
      },
      "source": [
        "a.upper()"
      ],
      "execution_count": 55,
      "outputs": [
        {
          "output_type": "execute_result",
          "data": {
            "application/vnd.google.colaboratory.intrinsic+json": {
              "type": "string"
            },
            "text/plain": [
              "'HELLO'"
            ]
          },
          "metadata": {
            "tags": []
          },
          "execution_count": 55
        }
      ]
    },
    {
      "cell_type": "markdown",
      "metadata": {
        "id": "l-IJyIdl5YwZ",
        "colab_type": "text"
      },
      "source": [
        "Vous pouvez voir la liste des méthodes associées aux chaînes de caractères (ainsi que sur les autres types natifs) sur [cette page](https://docs.python.org/fr/3/library/stdtypes.html#string-methods).\n",
        "\n",
        "5. La variable `a` a-t'elle été modifiée?"
      ]
    },
    {
      "cell_type": "code",
      "metadata": {
        "id": "sq4H-iZ95Ywb",
        "colab_type": "code",
        "colab": {
          "base_uri": "https://localhost:8080/",
          "height": 35
        },
        "outputId": "0472d3de-c8b9-499f-9485-e1e11983d270"
      },
      "source": [
        "a"
      ],
      "execution_count": 56,
      "outputs": [
        {
          "output_type": "execute_result",
          "data": {
            "application/vnd.google.colaboratory.intrinsic+json": {
              "type": "string"
            },
            "text/plain": [
              "'hello'"
            ]
          },
          "metadata": {
            "tags": []
          },
          "execution_count": 56
        }
      ]
    },
    {
      "cell_type": "markdown",
      "metadata": {
        "id": "yv4DxRMY5Ywg",
        "colab_type": "text"
      },
      "source": [
        "6. Que vaut `a > b`?"
      ]
    },
    {
      "cell_type": "code",
      "metadata": {
        "tags": [],
        "id": "xT8IbJ1m5Ywh",
        "colab_type": "code",
        "colab": {
          "base_uri": "https://localhost:8080/",
          "height": 34
        },
        "outputId": "9a3c907b-79ce-417c-d179-d395280e964a"
      },
      "source": [
        "a>b"
      ],
      "execution_count": 57,
      "outputs": [
        {
          "output_type": "execute_result",
          "data": {
            "text/plain": [
              "False"
            ]
          },
          "metadata": {
            "tags": []
          },
          "execution_count": 57
        }
      ]
    },
    {
      "cell_type": "markdown",
      "metadata": {
        "id": "Q9h3MSLC5Ywn",
        "colab_type": "text"
      },
      "source": [
        "7. Quelle est la signification de cette comparaison?"
      ]
    },
    {
      "cell_type": "markdown",
      "metadata": {
        "id": "-Rj_BoYI5Ywp",
        "colab_type": "text"
      },
      "source": [
        "### 3.4 Conversions"
      ]
    },
    {
      "cell_type": "markdown",
      "metadata": {
        "id": "H2hMXgQn5Ywp",
        "colab_type": "text"
      },
      "source": [
        "1. Dans la cellule de code suivante, devinez ce que vaut `a * 2` avant de l'afficher."
      ]
    },
    {
      "cell_type": "code",
      "metadata": {
        "tags": [],
        "id": "MXlK7pZx5Ywq",
        "colab_type": "code",
        "colab": {}
      },
      "source": [
        "a = \"32\""
      ],
      "execution_count": null,
      "outputs": []
    },
    {
      "cell_type": "markdown",
      "metadata": {
        "id": "k8RToBS35Ywu",
        "colab_type": "text"
      },
      "source": [
        "2. Utilisez la fonction de conversion `int()` pour obtenir le résultat de la multiplication de nombres entiers (64 ici)."
      ]
    },
    {
      "cell_type": "code",
      "metadata": {
        "tags": [],
        "id": "v5i1-V-95Ywv",
        "colab_type": "code",
        "colab": {}
      },
      "source": [
        ""
      ],
      "execution_count": null,
      "outputs": []
    },
    {
      "cell_type": "markdown",
      "metadata": {
        "id": "bMIHgSNI5Yw1",
        "colab_type": "text"
      },
      "source": [
        "3. Ecrivez l'expression `s = input(\"Tape quelquechose au clavier\")` puis affichez `s`. Que se passe-t'il?"
      ]
    },
    {
      "cell_type": "code",
      "metadata": {
        "tags": [],
        "id": "ztocSCqN5Yw4",
        "colab_type": "code",
        "colab": {}
      },
      "source": [
        ""
      ],
      "execution_count": null,
      "outputs": []
    },
    {
      "cell_type": "markdown",
      "metadata": {
        "id": "Z9F8Is-p5YxB",
        "colab_type": "text"
      },
      "source": [
        "4. Recopiez le code de la cellule précédente. L'utilisateur doit saisir un nombre entier puis vous affichez ce nombre multiplié par 2."
      ]
    },
    {
      "cell_type": "code",
      "metadata": {
        "tags": [],
        "id": "UtLfM2u-5YxB",
        "colab_type": "code",
        "colab": {}
      },
      "source": [
        ""
      ],
      "execution_count": null,
      "outputs": []
    },
    {
      "cell_type": "markdown",
      "metadata": {
        "id": "k8ld5jzF5YxH",
        "colab_type": "text"
      },
      "source": [
        "5. ́Ecrivez le code qui demande son âge à l’utilisateur et répond en utilisant sa réponse au milieu d’une phrase, comme par exemple en lui donnant l’âge qu’il aura en 2031 le même jour."
      ]
    },
    {
      "cell_type": "code",
      "metadata": {
        "tags": [],
        "id": "FB4uEyWM5YxH",
        "colab_type": "code",
        "colab": {}
      },
      "source": [
        ""
      ],
      "execution_count": null,
      "outputs": []
    },
    {
      "cell_type": "markdown",
      "metadata": {
        "id": "IIyf1iwn5YxX",
        "colab_type": "text"
      },
      "source": [
        "6. Avant de passer à la suite, sauvegardez votre notebook sur github."
      ]
    },
    {
      "cell_type": "markdown",
      "metadata": {
        "id": "fWrtR_LE5YxY",
        "colab_type": "text"
      },
      "source": [
        "---\n",
        "## Exercices supplémentaires"
      ]
    },
    {
      "cell_type": "markdown",
      "metadata": {
        "tags": [],
        "id": "BR_lAinH5YxZ",
        "colab_type": "text"
      },
      "source": [
        "1. Parmi les chaînes de caractères suivantes, lesquelles peuvent être des noms de variable?\n",
        "* `f`\n",
        "* `l`\n",
        "* `f2`\n",
        "* `2f`\n",
        "* `totolehero`\n",
        "* `toto_le_hero`\n",
        "* `import`\n",
        "* `toto2-le-retour`\n",
        "\n",
        "Et parmi les noms corrects, lesquels ne sont pas recommandés (voir la [PEP8](https://www.python.org/dev/peps/pep-0008/#naming-conventions))?\n"
      ]
    },
    {
      "cell_type": "markdown",
      "metadata": {
        "id": "q5A-hJpS5Yxa",
        "colab_type": "text"
      },
      "source": [
        "2. Demandez à l'utilisateur de rentrer un nombre, puis afficher sa racine carrée en faisant une phrase."
      ]
    },
    {
      "cell_type": "code",
      "metadata": {
        "tags": [],
        "id": "i31wWxwu5Yxa",
        "colab_type": "code",
        "colab": {}
      },
      "source": [
        ""
      ],
      "execution_count": null,
      "outputs": []
    },
    {
      "cell_type": "markdown",
      "metadata": {
        "id": "KIJDn6mR5Yxo",
        "colab_type": "text"
      },
      "source": [
        "3. Ecrivez le code qui affiche:\n",
        "* la chaı̂ne ”aaaaaa...” (250 ”a”)\n",
        "* la chaı̂ne ”bbbb....a” (250 ”b” suivis d’un ”a”)\n",
        "* la chaı̂ne ”bbbb....aaabbb...” (250 ”b” suivis d’un ”a” suivi de 100 b)\n",
        "* 50 fois ”bonjour” en allant à la ligne à chaque fois (utilisez ”\\n”)\n"
      ]
    },
    {
      "cell_type": "code",
      "metadata": {
        "tags": [],
        "id": "-4Ek7QMG5Yxs",
        "colab_type": "code",
        "colab": {}
      },
      "source": [
        ""
      ],
      "execution_count": null,
      "outputs": []
    }
  ]
}